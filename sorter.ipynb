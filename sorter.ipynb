{
 "cells": [
  {
   "cell_type": "markdown",
   "metadata": {},
   "source": [
    "#### Librerias necesarias"
   ]
  },
  {
   "cell_type": "code",
   "execution_count": 13,
   "metadata": {},
   "outputs": [],
   "source": [
    "import os \n",
    "import tensorflow as tf \n",
    "from tensorflow.keras import regularizers\n",
    "from tensorflow.keras import layers \n",
    "from tensorflow.keras import Model \n",
    "from tensorflow import keras\n",
    "import matplotlib.pyplot as plt\n",
    "import numpy as np\n",
    "import pandas as pd\n",
    "import matplotlib.image as mpimg\n",
    "from glob import glob \n",
    "from tensorflow.keras.optimizers import RMSprop\n",
    "from tensorflow.keras.optimizers import SGD\n",
    "from tensorflow.keras.preprocessing.image import ImageDataGenerator\n"
   ]
  },
  {
   "cell_type": "markdown",
   "metadata": {},
   "source": [
    "#### Directorio de las imagenes:"
   ]
  },
  {
   "cell_type": "code",
   "execution_count": 10,
   "metadata": {},
   "outputs": [],
   "source": [
    "dir = r'C:\\Users\\Admin\\Desktop\\Proyecto\\TB_Chest_Radiography_Database'\n",
    "train_dir = os.path.join(dir, 'train')\n",
    "test_dir = os.path.join(dir, 'test')\n",
    "train_normal_dir = os.path.join(train_dir, 'Normal')\n",
    "train_tb_dir = os.path.join(train_dir, 'Tuberculosis')\n",
    "test_normal_dir = os.path.join(test_dir, 'Normal')\n",
    "test_tb_dir = os.path.join(test_dir, 'Tuberculosis')\n",
    "\n",
    "#train_n_fnames = os.listdir(train_normal_dir)\n",
    "#test_tb_fnames = os.listdir(test_tb_dir)\n"
   ]
  },
  {
   "cell_type": "code",
   "execution_count": null,
   "metadata": {},
   "outputs": [],
   "source": [
    "nrows = 4\n",
    "ncols = 4\n",
    "pic_index = 0\n",
    "fig = plt.gcf()\n",
    "fig.set_size_inches(ncols*4, nrows*4)\n",
    "pic_index += 8\n",
    "next_n_pix = [os.path.join(train_normal_dir, fname)\n",
    "            for fname in train_normal_dir[pic_index-8:pic_index] \n",
    "            ]\n",
    "\n",
    "next_tb_pix = [os.path.join(train_tb_dir, fname)\n",
    "            for fname in train_tb_dir[pic_index-8:pic_index] \n",
    "            ]            \n",
    "\n",
    "for i, img_path in enumerate(next_n_pix+next_tb_pix):\n",
    "    sp = plt.subplot(nrows, ncols, i+1)\n",
    "    sp.axis('off')\n",
    "    img = mpimg.imread(img_path)\n",
    "    plt.imshow()"
   ]
  },
  {
   "cell_type": "markdown",
   "metadata": {},
   "source": [
    "## Creacion de la red neuronal:\n",
    "#### se usa la funcion de perdida SparseCategoricalCrossentropy, a normal = 0 y tb = 1"
   ]
  },
  {
   "cell_type": "code",
   "execution_count": null,
   "metadata": {},
   "outputs": [],
   "source": [
    "class convu(tf.keras.Model):\n",
    "    def __init__(self, filters, kernel_size):\n",
    "        super(Convu, self).__init__()\n",
    "\n",
    "        self.conv = tf.keras.layers.Conv2D(filters=filters, kernel_size=kernel_size)\n",
    "        self.bn = tf.keras.layers.BatchNormalization()\n",
    "        self.relu = tf.keras.layers.ReLU()\n",
    "        self.pool = tf.keras.layers.MaxPool2D(pool_size=(2, 2))\n",
    "\n",
    "    def call(self, inputs, training=True):\n",
    "        x = self.conv(inputs)\n",
    "        x = self.bn(x, training=training)\n",
    "        x = self.relu(x)\n",
    "        x = self.pool(x)\n",
    "        return(x)\n",
    "\n",
    "\n",
    "model = tf.keras.Sequential(name='rnc_rayos_x')\n",
    "model.add(convu(filters=32, kernel_size=(3, 3)))\n",
    "model.add(convu(filters=64, kernel_size=(3, 3)))\n",
    "model.add(convu(filters=128, kernel_size=(3, 3)))\n",
    "model.add(convu(filters=128, kernel_size=(3, 3)))\n",
    "model.add(tf.keras.layers.Flatten())\n",
    "model.add(tf.keras.layers.Dense(units=512, activation=tf.keras.activations.relu))\n",
    "model.add(tf.keras.layers.Dense(units=2, activation=tf.keras.activations.softmax))\n",
    "model.compile(optimizer=tf.keras.optimizers.Adam(learning_rate=1e-4), loss=tf.keras.losses.SparseCategoricalCrossentropy(), metrics=['accuracy'])\n",
    "\n",
    "dir = r'C:\\Users\\Admin\\Desktop\\Proyecto\\TB_Chest_Radiography_Database'\n",
    "train_len = len(glob(os.path.join(dir, 'train', 'Normal', '*.png')))*2\n",
    "test_len = len(glob(os.path.join(dir, 'test', 'Normal', '*.png')))*2"
   ]
  },
  {
   "cell_type": "code",
   "execution_count": null,
   "metadata": {},
   "outputs": [],
   "source": [
    "train_datagen = ImageDataGenerator(rescale = 1.0/255, rotation_range=40, width_shift_range=0.2, height_shift_range=0.2, shear_range=0.2, horizontal_flip=True, fill_mode='nearest')\n",
    "test_datagen = ImageDataGenerator(rescale = 1.0/255, rotation_range=40, width_shift_range=0.2, height_shift_range=0.2, shear_range=0.2, horizontal_flip=True, fill_mode='nearest')\n",
    "train_generador = train_datagen.flow_from_directory(train_dir, batch_size=20, class_mode='binary', target_size=(150, 150))\n",
    "test_generador = test_datagen.flow_from_directory(test_dir, batch_size=20, class_mode='binary', target_size=(150, 150))\n",
    "checkpoint_path = \"training_1/cp.ckpt\"\n",
    "checkpoint_dir = os.path.dirname(checkpoint_path)\n",
    "\n",
    "callback = tf.keras.callbacks.ModelCheckpoint(filepath=checkpoint_path, save_best_only=True, save_weights_only=False, verbose=1)"
   ]
  },
  {
   "cell_type": "markdown",
   "metadata": {},
   "source": [
    "### Se crean funciones para la manipulación de imágenes:"
   ]
  },
  {
   "cell_type": "code",
   "execution_count": null,
   "metadata": {},
   "outputs": [],
   "source": [
    "def load(a, label):\n",
    "    # cargar el archivo en un tensor:\n",
    "    image = tf.io.read_file(a)\n",
    "    # decodificando en formato JPEG\n",
    "    image = tf.image.decode_jpeg(image)\n",
    "    # convertir a tf.float32 \n",
    "    image = tf.cast(image, tf.float32)\n",
    "    return(image, label)\n",
    "\n",
    "\n",
    "def resize(input_image, size):\n",
    "    return(tf.image.random_crop(input_image, size))\n",
    "\n"
   ]
  }
 ],
 "metadata": {
  "interpreter": {
   "hash": "183bbf6827d058c2a2fb0f4acdc0420849dda2b4380af0e437e38c64d798d8b7"
  },
  "kernelspec": {
   "display_name": "Python 3.9.7 64-bit ('base': conda)",
   "language": "python",
   "name": "python3"
  },
  "language_info": {
   "codemirror_mode": {
    "name": "ipython",
    "version": 3
   },
   "file_extension": ".py",
   "mimetype": "text/x-python",
   "name": "python",
   "nbconvert_exporter": "python",
   "pygments_lexer": "ipython3",
   "version": "3.9.7"
  },
  "orig_nbformat": 4
 },
 "nbformat": 4,
 "nbformat_minor": 2
}
